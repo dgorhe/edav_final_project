{
 "cells": [
  {
   "cell_type": "markdown",
   "id": "b3f51016",
   "metadata": {},
   "source": [
    "# Imports"
   ]
  },
  {
   "cell_type": "code",
   "execution_count": 2,
   "id": "496eac6d",
   "metadata": {},
   "outputs": [],
   "source": [
    "import requests\n",
    "import tweepy\n",
    "import pandas as pd\n",
    "import math\n",
    "from datetime import datetime as dt\n",
    "from datetime import timezone as tz\n",
    "from alive_progress import alive_bar"
   ]
  },
  {
   "cell_type": "markdown",
   "id": "816364ae",
   "metadata": {},
   "source": [
    "# Authentication for Twitter v2 Client"
   ]
  },
  {
   "cell_type": "code",
   "execution_count": 3,
   "id": "b21cf5e0",
   "metadata": {},
   "outputs": [],
   "source": [
    "dgorhe_cred = {\n",
    "    \"bearer_token\": \"AAAAAAAAAAAAAAAAAAAAACC0VQEAAAAAVMb%2BsKdjGQF%2Bk2P0SxmpbqLPFeg%3DGQiBNYXWePAyShoZdbYpUGhLeysplsdxZ8eKMWPfhDUfWpLilo\",\n",
    "    \"consumer_key\": \"BoxdMYUEnBcdl0Rf3dXKCRrKN\",\n",
    "    \"consumer_secret\": \"BosBJ90fJ81EMnznNkgRcncbA6KtrSARwuUkqkdh9EUvgDvvqT\",\n",
    "    \"access_token\": \"1084676618554028034-Me3iM6GE8fkZ0HFtvDnYU7X2kwkxEA\",\n",
    "    \"access_token_secret\": \"JcNVR8vA4guM6T2gQTvQkRNcuJ8nIaPUQxNhaEG9c8ctI\",\n",
    "}\n",
    "\n",
    "client = tweepy.Client(**dgorhe_cred)"
   ]
  },
  {
   "cell_type": "markdown",
   "id": "fc982807",
   "metadata": {},
   "source": [
    "# Reading in List of Twitter Handles"
   ]
  },
  {
   "cell_type": "code",
   "execution_count": 4,
   "id": "9eb04d82",
   "metadata": {},
   "outputs": [],
   "source": [
    "df = pd.read_csv(\"https://theunitedstates.io/congress-legislators/legislators-current.csv\")\n",
    "congress_twitter_handles = [x for x in list(df[\"twitter\"]) if type(x) == str]"
   ]
  },
  {
   "cell_type": "markdown",
   "id": "cbd77036",
   "metadata": {},
   "source": [
    "# Extracting Tweets"
   ]
  },
  {
   "cell_type": "markdown",
   "id": "82f22652",
   "metadata": {},
   "source": [
    "## Declaring Static Parameters"
   ]
  },
  {
   "cell_type": "code",
   "execution_count": 5,
   "id": "b4135f5b",
   "metadata": {},
   "outputs": [],
   "source": [
    "# Static parameters for tweet search\n",
    "fields = ['created_at', 'geo', 'lang', 'context_annotations', 'entities']\n",
    "start_utc = dt.strptime(\"01/01/2020 00:00:00\", \"%m/%d/%Y %H:%M:%S\")\n",
    "end_utc = dt.strptime(\"12/31/2020 11:59:59\", \"%m/%d/%Y %H:%M:%S\")\n",
    "start_utc_iso8601 = start_utc.astimezone(tz.utc).isoformat('T', timespec='milliseconds').replace(\"+00:00\", \"Z\")\n",
    "end_utc_iso8601 = end_utc.astimezone(tz.utc).isoformat('T', timespec='milliseconds').replace(\"+00:00\", \"Z\")\n",
    "\n",
    "# Formatted dictionary to \n",
    "users_tweets_kwargs = {\n",
    "    \"max_results\": 100,\n",
    "    \"start_time\": start_utc_iso8601,\n",
    "    \"end_time\": end_utc_iso8601,    \n",
    "    \"tweet_fields\": fields\n",
    "}"
   ]
  },
  {
   "cell_type": "markdown",
   "id": "bf6300ad",
   "metadata": {},
   "source": [
    "## Function to Actually Extract Tweets"
   ]
  },
  {
   "cell_type": "code",
   "execution_count": null,
   "id": "fa7ad20c",
   "metadata": {},
   "outputs": [],
   "source": [
    "def write_to_csv(filename, dictionary):\n",
    "    with open(filename, \"w\") as f:\n",
    "        with alive_bar(len(dictionary.keys()), force_tty=True) as bar:\n",
    "            for key, value in dictionary.items():\n",
    "                for val in value:\n",
    "                    items = [key, val.text, str(val.id), str(val.geo), str(val.lang), str(val.context_annotations), str(val.entities)]\n",
    "                    line = \",\".join(items)\n",
    "                    f.write(line)\n",
    "            bar()"
   ]
  },
  {
   "cell_type": "code",
   "execution_count": 10,
   "id": "5dedd0d2",
   "metadata": {},
   "outputs": [],
   "source": [
    "# TODO: Add typing\n",
    "def get_tweets(client, handles, kwargs, dictionary={}):\n",
    "    count = 0\n",
    "    checked_handles = []\n",
    "\n",
    "    # Looping through all twitter handles to get tweets\n",
    "    with alive_bar(len(handles), force_tty=True) as bar:        \n",
    "        for handle in handles:\n",
    "            # If we don't have tweets for handle, get them\n",
    "            if (handle not in dictionary.keys()):\n",
    "                congress_person = client.get_user(username=handle)\n",
    "                kwargs[\"id\"] = congress_person.data.id\n",
    "                paginator = tweepy.Paginator(client.get_users_tweets, **kwargs)\n",
    "                dictionary[handle] = []\n",
    "                \n",
    "                # Iterate through pages of 100 tweets and append each tweet\n",
    "                for response in paginator:\n",
    "                    if (response.data) and (len(response.data) > 0):\n",
    "                        for tweet in response.data:\n",
    "                            dictionary[handle].append(tweet)\n",
    "            bar()\n",
    "\n",
    "            if (count % 10 == 0 and count != 0):\n",
    "                write_to_csv(\"../data/congress_tweets.csv\", dictionary)\n",
    "                checked = \", \".join(list(dictionary.keys()))\n",
    "                print(\"Wrote the following handles to csv: \", checked)\n",
    "                checked_handles.append(list(dictionary.keys()))\n",
    "                dictionary = {}\n",
    "                \n",
    "        \n",
    "    return dictionary, checked_handles"
   ]
  },
  {
   "cell_type": "code",
   "execution_count": 12,
   "id": "b281e01b",
   "metadata": {},
   "outputs": [],
   "source": [
    "handles = congress_twitter_handles[:10]\n",
    "congress_tweets = {}"
   ]
  },
  {
   "cell_type": "code",
   "execution_count": 13,
   "id": "14e18b48",
   "metadata": {},
   "outputs": [],
   "source": [
    "get_tweets(client, handles, users_tweets_kwargs, congress_tweets)"
   ]
  },
  {
   "cell_type": "code",
   "execution_count": 1,
   "id": "0e1934bb",
   "metadata": {},
   "outputs": [
    {
     "ename": "NameError",
     "evalue": "name 'congress_tweets' is not defined",
     "output_type": "error",
     "traceback": [
      "\u001b[0;31m---------------------------------------------------------------------------\u001b[0m",
      "\u001b[0;31mNameError\u001b[0m                                 Traceback (most recent call last)",
      "\u001b[0;32m<ipython-input-1-175f9cf8951e>\u001b[0m in \u001b[0;36m<module>\u001b[0;34m\u001b[0m\n\u001b[0;32m----> 1\u001b[0;31m \u001b[0mlen\u001b[0m\u001b[0;34m(\u001b[0m\u001b[0mcongress_tweets\u001b[0m\u001b[0;34m.\u001b[0m\u001b[0mkeys\u001b[0m\u001b[0;34m(\u001b[0m\u001b[0;34m)\u001b[0m\u001b[0;34m)\u001b[0m\u001b[0;34m\u001b[0m\u001b[0;34m\u001b[0m\u001b[0m\n\u001b[0m",
      "\u001b[0;31mNameError\u001b[0m: name 'congress_tweets' is not defined"
     ]
    }
   ],
   "source": [
    "len(congress_tweets.keys())"
   ]
  },
  {
   "cell_type": "code",
   "execution_count": 41,
   "id": "e8246ed3",
   "metadata": {},
   "outputs": [
    {
     "data": {
      "text/plain": [
       "str"
      ]
     },
     "execution_count": 41,
     "metadata": {},
     "output_type": "execute_result"
    }
   ],
   "source": [
    "x = json.dumps(congress_tweets[\"SenSherrodBrown\"][0].context_annotations[0])\n",
    "type(x)"
   ]
  }
 ],
 "metadata": {
  "interpreter": {
   "hash": "aee8b7b246df8f9039afb4144a1f6fd8d2ca17a180786b69acc140d282b71a49"
  },
  "kernelspec": {
   "display_name": "Python 3",
   "language": "python",
   "name": "python3"
  },
  "language_info": {
   "codemirror_mode": {
    "name": "ipython",
    "version": 3
   },
   "file_extension": ".py",
   "mimetype": "text/x-python",
   "name": "python",
   "nbconvert_exporter": "python",
   "pygments_lexer": "ipython3",
   "version": "3.9.7"
  }
 },
 "nbformat": 4,
 "nbformat_minor": 5
}
