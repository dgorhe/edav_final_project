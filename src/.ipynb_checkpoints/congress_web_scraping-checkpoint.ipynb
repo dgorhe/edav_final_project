{
 "cells": [
  {
   "cell_type": "markdown",
   "id": "b3f51016",
   "metadata": {},
   "source": [
    "# Imports"
   ]
  },
  {
   "cell_type": "code",
   "execution_count": 2,
   "id": "496eac6d",
   "metadata": {},
   "outputs": [],
   "source": [
    "import requests\n",
    "import tweepy\n",
    "import pandas as pd\n",
    "import math\n",
    "from datetime import datetime as dt\n",
    "from datetime import timezone as tz\n",
    "from alive_progress import alive_bar"
   ]
  },
  {
   "cell_type": "markdown",
   "id": "816364ae",
   "metadata": {},
   "source": [
    "# Authentication for Twitter v2 Client"
   ]
  },
  {
   "cell_type": "code",
   "execution_count": 3,
   "id": "b21cf5e0",
   "metadata": {},
   "outputs": [],
   "source": [
    "dgorhe_cred = {\n",
    "    \"bearer_token\": \"AAAAAAAAAAAAAAAAAAAAACC0VQEAAAAAVMb%2BsKdjGQF%2Bk2P0SxmpbqLPFeg%3DGQiBNYXWePAyShoZdbYpUGhLeysplsdxZ8eKMWPfhDUfWpLilo\",\n",
    "    \"consumer_key\": \"BoxdMYUEnBcdl0Rf3dXKCRrKN\",\n",
    "    \"consumer_secret\": \"BosBJ90fJ81EMnznNkgRcncbA6KtrSARwuUkqkdh9EUvgDvvqT\",\n",
    "    \"access_token\": \"1084676618554028034-Me3iM6GE8fkZ0HFtvDnYU7X2kwkxEA\",\n",
    "    \"access_token_secret\": \"JcNVR8vA4guM6T2gQTvQkRNcuJ8nIaPUQxNhaEG9c8ctI\",\n",
    "}\n",
    "\n",
    "client = tweepy.Client(**dgorhe_cred)"
   ]
  },
  {
   "cell_type": "markdown",
   "id": "fc982807",
   "metadata": {},
   "source": [
    "# Reading in List of Twitter Handles"
   ]
  },
  {
   "cell_type": "code",
   "execution_count": 4,
   "id": "9eb04d82",
   "metadata": {},
   "outputs": [],
   "source": [
    "df = pd.read_csv(\"https://theunitedstates.io/congress-legislators/legislators-current.csv\")\n",
    "congress_twitter_handles = [x for x in list(df[\"twitter\"]) if type(x) == str]"
   ]
  },
  {
   "cell_type": "markdown",
   "id": "cbd77036",
   "metadata": {},
   "source": [
    "# Extracting Tweets"
   ]
  },
  {
   "cell_type": "markdown",
   "id": "82f22652",
   "metadata": {},
   "source": [
    "## Declaring Static Parameters"
   ]
  },
  {
   "cell_type": "code",
   "execution_count": 5,
   "id": "b4135f5b",
   "metadata": {},
   "outputs": [],
   "source": [
    "# Static parameters for tweet search\n",
    "fields = ['created_at', 'geo', 'lang', 'context_annotations', 'entities']\n",
    "start_utc = dt.strptime(\"01/01/2020 00:00:00\", \"%m/%d/%Y %H:%M:%S\")\n",
    "end_utc = dt.strptime(\"12/31/2020 11:59:59\", \"%m/%d/%Y %H:%M:%S\")\n",
    "start_utc_iso8601 = start_utc.astimezone(tz.utc).isoformat('T', timespec='milliseconds').replace(\"+00:00\", \"Z\")\n",
    "end_utc_iso8601 = end_utc.astimezone(tz.utc).isoformat('T', timespec='milliseconds').replace(\"+00:00\", \"Z\")\n",
    "\n",
    "# Formatted dictionary to \n",
    "users_tweets_kwargs = {\n",
    "    \"max_results\": 100,\n",
    "    \"start_time\": start_utc_iso8601,\n",
    "    \"end_time\": end_utc_iso8601,    \n",
    "    \"tweet_fields\": fields\n",
    "}"
   ]
  },
  {
   "cell_type": "markdown",
   "id": "bf6300ad",
   "metadata": {},
   "source": [
    "## Function to Actually Extract Tweets"
   ]
  },
  {
   "cell_type": "code",
   "execution_count": 7,
   "id": "5dedd0d2",
   "metadata": {},
   "outputs": [],
   "source": [
    "# TODO: Add typing\n",
    "def get_tweets(client, handles, kwargs, dictionary={}):\n",
    "    # Looping through all twitter handles to get tweets\n",
    "    with alive_bar(len(handles), force_tty=True) as bar:        \n",
    "        for handle in handles:\n",
    "            # If we don't have tweets for handle, get them\n",
    "            if (handle not in dictionary.keys()):\n",
    "                congress_person = client.get_user(username=handle)\n",
    "                kwargs[\"id\"] = congress_person.data.id\n",
    "                paginator = tweepy.Paginator(client.get_users_tweets, **kwargs)\n",
    "                dictionary[handle] = []\n",
    "                \n",
    "                # Iterate through pages of 100 tweets and append each tweet\n",
    "                for response in paginator:\n",
    "                    if (response.data) and (len(response.data) > 0):\n",
    "                        for tweet in response.data:\n",
    "                            dictionary[handle].append(tweet)\n",
    "            bar()\n",
    "        \n",
    "    return dictionary"
   ]
  },
  {
   "cell_type": "code",
   "execution_count": 11,
   "id": "14e18b48",
   "metadata": {},
   "outputs": [
    {
     "name": "stdout",
     "output_type": "stream",
     "text": [
      "|█████▎                                  | ▆█▆ 69/522 [13%] in 0s (353.0/s, eta:"
     ]
    },
    {
     "ename": "TooManyRequests",
     "evalue": "429 Too Many Requests",
     "output_type": "error",
     "traceback": [
      "\u001b[0;31m---------------------------------------------------------------------------\u001b[0m",
      "\u001b[0;31mTooManyRequests\u001b[0m                           Traceback (most recent call last)",
      "\u001b[0;32m<ipython-input-11-39683c9ebde2>\u001b[0m in \u001b[0;36m<module>\u001b[0;34m\u001b[0m\n\u001b[0;32m----> 1\u001b[0;31m \u001b[0mget_tweets\u001b[0m\u001b[0;34m(\u001b[0m\u001b[0mclient\u001b[0m\u001b[0;34m,\u001b[0m \u001b[0mcongress_twitter_handles\u001b[0m\u001b[0;34m,\u001b[0m \u001b[0musers_tweets_kwargs\u001b[0m\u001b[0;34m,\u001b[0m \u001b[0mcongress_tweets\u001b[0m\u001b[0;34m)\u001b[0m\u001b[0;34m\u001b[0m\u001b[0;34m\u001b[0m\u001b[0m\n\u001b[0m",
      "\u001b[0;32m<ipython-input-7-e3ceb6cd2453>\u001b[0m in \u001b[0;36mget_tweets\u001b[0;34m(client, handles, kwargs, dictionary)\u001b[0m\n\u001b[1;32m     12\u001b[0m \u001b[0;34m\u001b[0m\u001b[0m\n\u001b[1;32m     13\u001b[0m                 \u001b[0;31m# Iterate through pages of 100 tweets and append each tweet\u001b[0m\u001b[0;34m\u001b[0m\u001b[0;34m\u001b[0m\u001b[0m\n\u001b[0;32m---> 14\u001b[0;31m                 \u001b[0;32mfor\u001b[0m \u001b[0mresponse\u001b[0m \u001b[0;32min\u001b[0m \u001b[0mpaginator\u001b[0m\u001b[0;34m:\u001b[0m\u001b[0;34m\u001b[0m\u001b[0;34m\u001b[0m\u001b[0m\n\u001b[0m\u001b[1;32m     15\u001b[0m                     \u001b[0;32mif\u001b[0m \u001b[0;34m(\u001b[0m\u001b[0mresponse\u001b[0m\u001b[0;34m.\u001b[0m\u001b[0mdata\u001b[0m\u001b[0;34m)\u001b[0m \u001b[0;32mand\u001b[0m \u001b[0;34m(\u001b[0m\u001b[0mlen\u001b[0m\u001b[0;34m(\u001b[0m\u001b[0mresponse\u001b[0m\u001b[0;34m.\u001b[0m\u001b[0mdata\u001b[0m\u001b[0;34m)\u001b[0m \u001b[0;34m>\u001b[0m \u001b[0;36m0\u001b[0m\u001b[0;34m)\u001b[0m\u001b[0;34m:\u001b[0m\u001b[0;34m\u001b[0m\u001b[0;34m\u001b[0m\u001b[0m\n\u001b[1;32m     16\u001b[0m                         \u001b[0;32mfor\u001b[0m \u001b[0mtweet\u001b[0m \u001b[0;32min\u001b[0m \u001b[0mresponse\u001b[0m\u001b[0;34m.\u001b[0m\u001b[0mdata\u001b[0m\u001b[0;34m:\u001b[0m\u001b[0;34m\u001b[0m\u001b[0;34m\u001b[0m\u001b[0m\n",
      "\u001b[0;32m/usr/local/lib/python3.9/site-packages/tweepy/pagination.py\u001b[0m in \u001b[0;36m__next__\u001b[0;34m(self)\u001b[0m\n\u001b[1;32m     94\u001b[0m             \u001b[0mself\u001b[0m\u001b[0;34m.\u001b[0m\u001b[0mkwargs\u001b[0m\u001b[0;34m[\u001b[0m\u001b[0;34m\"pagination_token\"\u001b[0m\u001b[0;34m]\u001b[0m \u001b[0;34m=\u001b[0m \u001b[0mpagination_token\u001b[0m\u001b[0;34m\u001b[0m\u001b[0;34m\u001b[0m\u001b[0m\n\u001b[1;32m     95\u001b[0m \u001b[0;34m\u001b[0m\u001b[0m\n\u001b[0;32m---> 96\u001b[0;31m         \u001b[0mresponse\u001b[0m \u001b[0;34m=\u001b[0m \u001b[0mself\u001b[0m\u001b[0;34m.\u001b[0m\u001b[0mmethod\u001b[0m\u001b[0;34m(\u001b[0m\u001b[0;34m*\u001b[0m\u001b[0mself\u001b[0m\u001b[0;34m.\u001b[0m\u001b[0margs\u001b[0m\u001b[0;34m,\u001b[0m \u001b[0;34m**\u001b[0m\u001b[0mself\u001b[0m\u001b[0;34m.\u001b[0m\u001b[0mkwargs\u001b[0m\u001b[0;34m)\u001b[0m\u001b[0;34m\u001b[0m\u001b[0;34m\u001b[0m\u001b[0m\n\u001b[0m\u001b[1;32m     97\u001b[0m \u001b[0;34m\u001b[0m\u001b[0m\n\u001b[1;32m     98\u001b[0m         \u001b[0mself\u001b[0m\u001b[0;34m.\u001b[0m\u001b[0mprevious_token\u001b[0m \u001b[0;34m=\u001b[0m \u001b[0mresponse\u001b[0m\u001b[0;34m.\u001b[0m\u001b[0mmeta\u001b[0m\u001b[0;34m.\u001b[0m\u001b[0mget\u001b[0m\u001b[0;34m(\u001b[0m\u001b[0;34m\"previous_token\"\u001b[0m\u001b[0;34m)\u001b[0m\u001b[0;34m\u001b[0m\u001b[0;34m\u001b[0m\u001b[0m\n",
      "\u001b[0;32m/usr/local/lib/python3.9/site-packages/tweepy/client.py\u001b[0m in \u001b[0;36mget_users_tweets\u001b[0;34m(self, id, user_auth, **params)\u001b[0m\n\u001b[1;32m    864\u001b[0m         \u001b[0;34m.\u001b[0m\u001b[0;34m.\u001b[0m \u001b[0m_here\u001b[0m\u001b[0;34m:\u001b[0m \u001b[0mhttps\u001b[0m\u001b[0;34m:\u001b[0m\u001b[0;34m//\u001b[0m\u001b[0mdeveloper\u001b[0m\u001b[0;34m.\u001b[0m\u001b[0mtwitter\u001b[0m\u001b[0;34m.\u001b[0m\u001b[0mcom\u001b[0m\u001b[0;34m/\u001b[0m\u001b[0men\u001b[0m\u001b[0;34m/\u001b[0m\u001b[0mdocs\u001b[0m\u001b[0;34m/\u001b[0m\u001b[0mtwitter\u001b[0m\u001b[0;34m-\u001b[0m\u001b[0mids\u001b[0m\u001b[0;34m\u001b[0m\u001b[0;34m\u001b[0m\u001b[0m\n\u001b[1;32m    865\u001b[0m         \"\"\"\n\u001b[0;32m--> 866\u001b[0;31m         return self._make_request(\n\u001b[0m\u001b[1;32m    867\u001b[0m             \u001b[0;34m\"GET\"\u001b[0m\u001b[0;34m,\u001b[0m \u001b[0;34mf\"/2/users/{id}/tweets\"\u001b[0m\u001b[0;34m,\u001b[0m \u001b[0mparams\u001b[0m\u001b[0;34m=\u001b[0m\u001b[0mparams\u001b[0m\u001b[0;34m,\u001b[0m\u001b[0;34m\u001b[0m\u001b[0;34m\u001b[0m\u001b[0m\n\u001b[1;32m    868\u001b[0m             endpoint_parameters=(\n",
      "\u001b[0;32m/usr/local/lib/python3.9/site-packages/tweepy/client.py\u001b[0m in \u001b[0;36m_make_request\u001b[0;34m(self, method, route, params, endpoint_parameters, json, data_type, user_auth)\u001b[0m\n\u001b[1;32m    163\u001b[0m                 \u001b[0mlog\u001b[0m\u001b[0;34m.\u001b[0m\u001b[0mwarn\u001b[0m\u001b[0;34m(\u001b[0m\u001b[0;34mf\"Unexpected parameter: {param_name}\"\u001b[0m\u001b[0;34m)\u001b[0m\u001b[0;34m\u001b[0m\u001b[0;34m\u001b[0m\u001b[0m\n\u001b[1;32m    164\u001b[0m \u001b[0;34m\u001b[0m\u001b[0m\n\u001b[0;32m--> 165\u001b[0;31m         response = self.request(method, route, params=request_params,\n\u001b[0m\u001b[1;32m    166\u001b[0m                                 json=json, user_auth=user_auth)\n\u001b[1;32m    167\u001b[0m \u001b[0;34m\u001b[0m\u001b[0m\n",
      "\u001b[0;32m/usr/local/lib/python3.9/site-packages/tweepy/client.py\u001b[0m in \u001b[0;36mrequest\u001b[0;34m(self, method, route, params, json, user_auth)\u001b[0m\n\u001b[1;32m    135\u001b[0m                     \u001b[0;32mreturn\u001b[0m \u001b[0mself\u001b[0m\u001b[0;34m.\u001b[0m\u001b[0mrequest\u001b[0m\u001b[0;34m(\u001b[0m\u001b[0mmethod\u001b[0m\u001b[0;34m,\u001b[0m \u001b[0mroute\u001b[0m\u001b[0;34m,\u001b[0m \u001b[0mparams\u001b[0m\u001b[0;34m,\u001b[0m \u001b[0mjson\u001b[0m\u001b[0;34m,\u001b[0m \u001b[0muser_auth\u001b[0m\u001b[0;34m)\u001b[0m\u001b[0;34m\u001b[0m\u001b[0;34m\u001b[0m\u001b[0m\n\u001b[1;32m    136\u001b[0m                 \u001b[0;32melse\u001b[0m\u001b[0;34m:\u001b[0m\u001b[0;34m\u001b[0m\u001b[0;34m\u001b[0m\u001b[0m\n\u001b[0;32m--> 137\u001b[0;31m                     \u001b[0;32mraise\u001b[0m \u001b[0mTooManyRequests\u001b[0m\u001b[0;34m(\u001b[0m\u001b[0mresponse\u001b[0m\u001b[0;34m)\u001b[0m\u001b[0;34m\u001b[0m\u001b[0;34m\u001b[0m\u001b[0m\n\u001b[0m\u001b[1;32m    138\u001b[0m             \u001b[0;32mif\u001b[0m \u001b[0mresponse\u001b[0m\u001b[0;34m.\u001b[0m\u001b[0mstatus_code\u001b[0m \u001b[0;34m>=\u001b[0m \u001b[0;36m500\u001b[0m\u001b[0;34m:\u001b[0m\u001b[0;34m\u001b[0m\u001b[0;34m\u001b[0m\u001b[0m\n\u001b[1;32m    139\u001b[0m                 \u001b[0;32mraise\u001b[0m \u001b[0mTwitterServerError\u001b[0m\u001b[0;34m(\u001b[0m\u001b[0mresponse\u001b[0m\u001b[0;34m)\u001b[0m\u001b[0;34m\u001b[0m\u001b[0;34m\u001b[0m\u001b[0m\n",
      "\u001b[0;31mTooManyRequests\u001b[0m: 429 Too Many Requests"
     ]
    }
   ],
   "source": [
    "get_tweets(client, congress_twitter_handles, users_tweets_kwargs, congress_tweets)"
   ]
  },
  {
   "cell_type": "code",
   "execution_count": 10,
   "id": "d274e55f",
   "metadata": {},
   "outputs": [
    {
     "data": {
      "text/plain": [
       "69"
      ]
     },
     "execution_count": 10,
     "metadata": {},
     "output_type": "execute_result"
    }
   ],
   "source": [
    "len(congress_tweets.keys())"
   ]
  },
  {
   "cell_type": "code",
   "execution_count": null,
   "id": "fced50c9",
   "metadata": {},
   "outputs": [],
   "source": [
    "def write_to_csv(filename, dictonary):\n",
    "    with open(filename, \"w\") as f:\n",
    "        for key, value in dictionary:\n",
    "            for val in value:\n",
    "                items = [key, val.text, val.id, val.geo, val.lang, val.context_annotations, val.entities]\n",
    "                line = \",\".join(items)\n",
    "                f.write(line)"
   ]
  },
  {
   "cell_type": "code",
   "execution_count": null,
   "id": "4f2671b1",
   "metadata": {},
   "outputs": [],
   "source": [
    "write_to_csv(\"../data/congress_tweets.csv\", congress_tweets)"
   ]
  }
 ],
 "metadata": {
  "interpreter": {
   "hash": "aee8b7b246df8f9039afb4144a1f6fd8d2ca17a180786b69acc140d282b71a49"
  },
  "kernelspec": {
   "display_name": "Python 3",
   "language": "python",
   "name": "python3"
  },
  "language_info": {
   "codemirror_mode": {
    "name": "ipython",
    "version": 3
   },
   "file_extension": ".py",
   "mimetype": "text/x-python",
   "name": "python",
   "nbconvert_exporter": "python",
   "pygments_lexer": "ipython3",
   "version": "3.9.7"
  }
 },
 "nbformat": 4,
 "nbformat_minor": 5
}
